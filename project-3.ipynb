{
 "cells": [
  {
   "cell_type": "code",
   "execution_count": 2,
   "metadata": {},
   "outputs": [
    {
     "name": "stdout",
     "output_type": "stream",
     "text": [
      "Requirement already satisfied: gensim in c:\\users\\rebec\\anaconda3\\envs\\“is310”\\lib\\site-packages (4.3.3)\n",
      "Requirement already satisfied: numpy<2.0,>=1.18.5 in c:\\users\\rebec\\anaconda3\\envs\\“is310”\\lib\\site-packages (from gensim) (1.26.4)\n",
      "Requirement already satisfied: scipy<1.14.0,>=1.7.0 in c:\\users\\rebec\\anaconda3\\envs\\“is310”\\lib\\site-packages (from gensim) (1.13.1)\n",
      "Requirement already satisfied: smart-open>=1.8.1 in c:\\users\\rebec\\anaconda3\\envs\\“is310”\\lib\\site-packages (from gensim) (7.0.5)\n",
      "Requirement already satisfied: wrapt in c:\\users\\rebec\\anaconda3\\envs\\“is310”\\lib\\site-packages (from smart-open>=1.8.1->gensim) (1.16.0)\n"
     ]
    }
   ],
   "source": [
    "!pip install gensim\n"
   ]
  },
  {
   "cell_type": "code",
   "execution_count": 3,
   "metadata": {},
   "outputs": [],
   "source": [
    "import gensim\n",
    "\n",
    "import gensim.downloader"
   ]
  },
  {
   "cell_type": "markdown",
   "metadata": {},
   "source": [
    "Part 1: Word Embeddings"
   ]
  },
  {
   "cell_type": "code",
   "execution_count": 4,
   "metadata": {},
   "outputs": [
    {
     "name": "stdout",
     "output_type": "stream",
     "text": [
      "[('cat', 0.8798075318336487), ('dogs', 0.834430992603302), ('pet', 0.7449565529823303), ('puppy', 0.723637580871582), ('horse', 0.7109653949737549), ('animal', 0.6817063093185425), ('pig', 0.655417263507843), ('boy', 0.6545307040214539), ('cats', 0.6471932530403137), ('rabbit', 0.6468629837036133)]\n",
      "0.8798075\n"
     ]
    }
   ],
   "source": [
    "# Load pre-trained Word2Vec model trained on wikipedia data\n",
    "\n",
    "model = gensim.downloader.load(\"glove-wiki-gigaword-100\")\n",
    "# Getting the vector for a word\n",
    "\n",
    "dog = model['dog']\n",
    "\n",
    "# Getting the most similar words\n",
    "\n",
    "print(model.most_similar('dog'))\n",
    "\n",
    "# Getting the similarity between two words\n",
    "\n",
    "print(model.similarity('dog', 'cat'))\n"
   ]
  },
  {
   "cell_type": "markdown",
   "metadata": {},
   "source": [
    "Part 1a"
   ]
  },
  {
   "cell_type": "code",
   "execution_count": 5,
   "metadata": {},
   "outputs": [
    {
     "name": "stdout",
     "output_type": "stream",
     "text": [
      "[('twitching', 0.564050555229187), ('muscles', 0.5623922348022461), ('flexing', 0.5436402559280396), ('twitches', 0.5201610326766968), ('fibers', 0.5190842151641846), ('droopy', 0.5093851089477539), ('reflexes', 0.5052903890609741), ('quickening', 0.5043982863426208), ('sizzle', 0.5019487738609314), ('atrophy', 0.4994564652442932)]\n"
     ]
    }
   ],
   "source": [
    "\n",
    "#find the most similar words to a word of your choice. \n",
    "#Does the result make sense? Look up some of the words if you don't know them\n",
    "#Share and discuss with your group\n",
    "\n",
    "twitch = model['twitch']\n",
    "print(model.most_similar('twitch'))"
   ]
  },
  {
   "cell_type": "code",
   "execution_count": 5,
   "metadata": {},
   "outputs": [
    {
     "name": "stdout",
     "output_type": "stream",
     "text": [
      "[('paris', 0.8827145099639893), ('france', 0.755802571773529), ('french', 0.7075164318084717), ('prohertrib', 0.6943174004554749), ('berlin', 0.6665561199188232), ('brussels', 0.6574430465698242), ('lyon', 0.6526200771331787), ('london', 0.64079749584198), ('le', 0.6403627395629883), ('strasbourg', 0.6346526741981506)]\n",
      "[('lowlanders', 0.4844588041305542), ('zebras', 0.45914992690086365), ('dicots', 0.4533276855945587), ('non-arabs', 0.45208775997161865), ('amerindians', 0.4478239119052887), ('buffalos', 0.4475124180316925), ('giraffes', 0.4466330111026764), ('bavarians', 0.4452260732650757), ('welshmen', 0.4440663158893585), ('dingos', 0.4440328776836395)]\n",
      "[('dogs', 0.8921768069267273), ('cats', 0.8814380764961243), ('dog', 0.7873795628547668), ('animals', 0.7512702345848083), ('pets', 0.7392117977142334), ('cows', 0.6835323572158813), ('pet', 0.6792976260185242), ('horses', 0.6774963736534119), ('pigs', 0.6755764484405518), ('animal', 0.6683686971664429)]\n"
     ]
    }
   ],
   "source": [
    "\n",
    "#we can extract a \"capital vector\" by subtracting the vector for a country from the vector for its capital\n",
    "capital= model[\"berlin\"]-model['germany']\n",
    "\n",
    "fra_capital=model[\"france\"]+capital\n",
    "\n",
    "print(model.most_similar(fra_capital))\n",
    "#likewise, we can extract a \"plural vector\" by subtracting the vector for a singular noun from the vector for its plural\n",
    "plural=model[\"cats\"]-model[\"cat\"]\n",
    "\n",
    "print(model.most_similar(plural))\n",
    "\n",
    "#we can also add vectors together\n",
    "plural_dogs=model[\"dog\"]+plural\n",
    "\n",
    "print(model.most_similar(plural_dogs))\n",
    "\n"
   ]
  },
  {
   "cell_type": "code",
   "execution_count": 6,
   "metadata": {},
   "outputs": [
    {
     "name": "stdout",
     "output_type": "stream",
     "text": [
      "[('menstruating', 0.6102039217948914), ('miscarry', 0.5550354719161987), ('lactating', 0.542172908782959), ('pre-eclampsia', 0.5129693150520325), ('uterus', 0.5093088746070862), ('ovulating', 0.5070309042930603), ('miscarried', 0.5043483972549438), ('adoptee', 0.5012543201446533), ('comnena', 0.5012539625167847), ('pulecio', 0.5003889799118042)]\n",
      "[('arsene', 0.4388486444950104), ('ancelotti', 0.4215139150619507), ('nistelrooy', 0.41140037775039673), ('strachan', 0.4089668393135071), ('rafa', 0.4072844088077545), ('technicals', 0.40608730912208557), ('allardyce', 0.4018688201904297), ('boss', 0.40107354521751404), ('rangers', 0.39962300658226013), ('utd', 0.3967454433441162)]\n"
     ]
    },
    {
     "data": {
      "text/plain": [
       "[('doctor', 0.8661208748817444),\n",
       " ('nurse', 0.7757077813148499),\n",
       " ('physician', 0.7128061652183533),\n",
       " ('woman', 0.7089029550552368),\n",
       " ('doctors', 0.6793617606163025),\n",
       " ('pregnant', 0.6787967681884766),\n",
       " ('patient', 0.6772218346595764),\n",
       " ('dentist', 0.6694241762161255),\n",
       " ('mother', 0.6586816310882568),\n",
       " ('medical', 0.6466938257217407)]"
      ]
     },
     "execution_count": 6,
     "metadata": {},
     "output_type": "execute_result"
    }
   ],
   "source": [
    "# this can be used to find examples of data bias in word embeddings\n",
    "\n",
    "# for example, we can find the most similar words to \"doctor\" and \"nurse\"\n",
    "\n",
    "gender=model[\"woman\"]-model[\"man\"]\n",
    "\n",
    "print(model.most_similar(gender))\n",
    "print(model.most_similar(-gender))\n",
    "\n",
    "model.most_similar(model[\"doctor\"]+gender)\n",
    "\n"
   ]
  },
  {
   "cell_type": "markdown",
   "metadata": {},
   "source": [
    "Part 1b"
   ]
  },
  {
   "cell_type": "code",
   "execution_count": 14,
   "metadata": {},
   "outputs": [
    {
     "name": "stdout",
     "output_type": "stream",
     "text": [
      "[('menstruating', 0.6102039217948914), ('miscarry', 0.5550354719161987), ('lactating', 0.542172908782959), ('pre-eclampsia', 0.5129693150520325), ('uterus', 0.5093088746070862), ('ovulating', 0.5070309042930603), ('miscarried', 0.5043483972549438), ('adoptee', 0.5012543201446533), ('comnena', 0.5012539625167847), ('pulecio', 0.5003889799118042)]\n",
      "[('arsene', 0.4388486444950104), ('ancelotti', 0.4215139150619507), ('nistelrooy', 0.41140037775039673), ('strachan', 0.4089668393135071), ('rafa', 0.4072844088077545), ('technicals', 0.40608730912208557), ('allardyce', 0.4018688201904297), ('boss', 0.40107354521751404), ('rangers', 0.39962300658226013), ('utd', 0.3967454433441162)]\n",
      "[('scientist', 0.8589305281639099), ('physicist', 0.7057017087936401), ('expert', 0.6705869436264038), ('biologist', 0.6302906274795532), ('professor', 0.6143324971199036), ('researcher', 0.6060958504676819), ('geologist', 0.5861785411834717), ('astronomer', 0.5750041007995605), ('engineer', 0.5710096955299377), ('mathematician', 0.5664831399917603)]\n",
      "[('scientist', 0.8457132577896118), ('researcher', 0.7720550298690796), ('anthropologist', 0.6775693893432617), ('sociologist', 0.6604512333869934), ('psychologist', 0.6570417881011963), ('professor', 0.6476209163665771), ('physicist', 0.6438524723052979), ('biologist', 0.6303603649139404), ('geneticist', 0.6273963451385498), ('author', 0.6159692406654358)]\n"
     ]
    }
   ],
   "source": [
    "#try to isolate a specific dimension in the embeddings and add it to multiple words. \n",
    "#does this show any bias or assumptions in the data? \n",
    "# Discuss with your group and share most interesting dimension in the document\n",
    "\n",
    "gender=model[\"woman\"]-model[\"man\"]\n",
    "\n",
    "print(model.most_similar(gender))\n",
    "print(model.most_similar(-gender))\n",
    "\n",
    "print(model.most_similar(model[\"scientist\"]-gender))\n",
    "print(model.most_similar(model[\"scientist\"]+gender))"
   ]
  },
  {
   "cell_type": "markdown",
   "metadata": {},
   "source": [
    "Part 2: Visualization and Embeddings in Space"
   ]
  },
  {
   "cell_type": "code",
   "execution_count": 7,
   "metadata": {},
   "outputs": [
    {
     "ename": "ModuleNotFoundError",
     "evalue": "No module named 'matplotlib'",
     "output_type": "error",
     "traceback": [
      "\u001b[1;31m---------------------------------------------------------------------------\u001b[0m",
      "\u001b[1;31mModuleNotFoundError\u001b[0m                       Traceback (most recent call last)",
      "Cell \u001b[1;32mIn[7], line 5\u001b[0m\n\u001b[0;32m      1\u001b[0m \u001b[38;5;66;03m#visualize pca of word embeddings\u001b[39;00m\n\u001b[0;32m      3\u001b[0m \u001b[38;5;28;01mfrom\u001b[39;00m \u001b[38;5;21;01msklearn\u001b[39;00m\u001b[38;5;21;01m.\u001b[39;00m\u001b[38;5;21;01mdecomposition\u001b[39;00m \u001b[38;5;28;01mimport\u001b[39;00m PCA\n\u001b[1;32m----> 5\u001b[0m \u001b[38;5;28;01mimport\u001b[39;00m \u001b[38;5;21;01mmatplotlib\u001b[39;00m\u001b[38;5;21;01m.\u001b[39;00m\u001b[38;5;21;01mpyplot\u001b[39;00m \u001b[38;5;28;01mas\u001b[39;00m \u001b[38;5;21;01mplt\u001b[39;00m\n\u001b[0;32m      7\u001b[0m words\u001b[38;5;241m=\u001b[39m[\u001b[38;5;124m\"\u001b[39m\u001b[38;5;124mdog\u001b[39m\u001b[38;5;124m\"\u001b[39m,\u001b[38;5;124m\"\u001b[39m\u001b[38;5;124mcat\u001b[39m\u001b[38;5;124m\"\u001b[39m,\u001b[38;5;124m\"\u001b[39m\u001b[38;5;124mfish\u001b[39m\u001b[38;5;124m\"\u001b[39m, \u001b[38;5;124m\"\u001b[39m\u001b[38;5;124mwhale\u001b[39m\u001b[38;5;124m\"\u001b[39m, \u001b[38;5;124m\"\u001b[39m\u001b[38;5;124mbird\u001b[39m\u001b[38;5;124m\"\u001b[39m, \u001b[38;5;124m\"\u001b[39m\u001b[38;5;124meagle\u001b[39m\u001b[38;5;124m\"\u001b[39m, \u001b[38;5;124m\"\u001b[39m\u001b[38;5;124mlion\u001b[39m\u001b[38;5;124m\"\u001b[39m, \u001b[38;5;124m\"\u001b[39m\u001b[38;5;124mtiger\u001b[39m\u001b[38;5;124m\"\u001b[39m, \u001b[38;5;124m\"\u001b[39m\u001b[38;5;124mcheetah\u001b[39m\u001b[38;5;124m\"\u001b[39m, \u001b[38;5;124m\"\u001b[39m\u001b[38;5;124melephant\u001b[39m\u001b[38;5;124m\"\u001b[39m, \u001b[38;5;124m\"\u001b[39m\u001b[38;5;124mgiraffe\u001b[39m\u001b[38;5;124m\"\u001b[39m, \u001b[38;5;124m\"\u001b[39m\u001b[38;5;124mzebra\u001b[39m\u001b[38;5;124m\"\u001b[39m, \u001b[38;5;124m\"\u001b[39m\u001b[38;5;124mkangaroo\u001b[39m\u001b[38;5;124m\"\u001b[39m, \u001b[38;5;124m\"\u001b[39m\u001b[38;5;124mkoala\u001b[39m\u001b[38;5;124m\"\u001b[39m, \u001b[38;5;124m\"\u001b[39m\u001b[38;5;124mpanda\u001b[39m\u001b[38;5;124m\"\u001b[39m, \u001b[38;5;124m\"\u001b[39m\u001b[38;5;124mmonkey\u001b[39m\u001b[38;5;124m\"\u001b[39m, \u001b[38;5;124m\"\u001b[39m\u001b[38;5;124mgorilla\u001b[39m\u001b[38;5;124m\"\u001b[39m, \u001b[38;5;124m\"\u001b[39m\u001b[38;5;124mchimpanzee\u001b[39m\u001b[38;5;124m\"\u001b[39m, \u001b[38;5;124m\"\u001b[39m\u001b[38;5;124morangutan\u001b[39m\u001b[38;5;124m\"\u001b[39m, ]\n\u001b[0;32m      9\u001b[0m X\u001b[38;5;241m=\u001b[39m[model[word] \u001b[38;5;28;01mfor\u001b[39;00m word \u001b[38;5;129;01min\u001b[39;00m words]\n",
      "\u001b[1;31mModuleNotFoundError\u001b[0m: No module named 'matplotlib'"
     ]
    }
   ],
   "source": [
    "#visualize pca of word embeddings\n",
    "\n",
    "from sklearn.decomposition import PCA\n",
    "\n",
    "import matplotlib.pyplot as plt\n",
    "\n",
    "words=[\"dog\",\"cat\",\"fish\", \"whale\", \"bird\", \"eagle\", \"lion\", \"tiger\", \"cheetah\", \"elephant\", \"giraffe\", \"zebra\", \"kangaroo\", \"koala\", \"panda\", \"monkey\", \"gorilla\", \"chimpanzee\", \"orangutan\", ]\n",
    "\n",
    "X=[model[word] for word in words]\n",
    "\n",
    "#identify clusters of words in the word embeddings at high dimensions\n",
    "\n",
    "pca=PCA(n_components=2)\n",
    "\n",
    "X_pca=pca.fit_transform(X)\n",
    "\n",
    "plt.scatter(X_pca[:,0],X_pca[:,1])\n",
    "\n",
    "for i, word in enumerate(words):\n",
    "    plt.annotate(word, (X_pca[i,0],X_pca[i,1]))\n",
    "\n",
    "plt.show()"
   ]
  },
  {
   "cell_type": "code",
   "execution_count": null,
   "metadata": {},
   "outputs": [],
   "source": [
    "#repeat this process with your own set of 10-20 words. \n",
    "#Does the proximity between words and overall distances make sense? Work as a group and discuss your individual findings.\n",
    "\n",
    "\n"
   ]
  },
  {
   "cell_type": "code",
   "execution_count": null,
   "metadata": {},
   "outputs": [],
   "source": [
    "# repeat the process with a different pre-trained model and the same set of words. \n",
    "# What has changed in the embedding space? What might this have to do with the training data?\n",
    "twitter_model= gensim.downloader.load(\"glove-twitter-100\")\n"
   ]
  },
  {
   "cell_type": "markdown",
   "metadata": {},
   "source": [
    "Part 3: Embedding reddit posts"
   ]
  },
  {
   "cell_type": "code",
   "execution_count": null,
   "metadata": {},
   "outputs": [],
   "source": [
    "#read in uiuc csv\n",
    "uiuc=pd.read_csv(\"uiuc.csv\")\n",
    "mich=pd.read_csv(\"umich.csv\")\n",
    "\n",
    "#sample so we have even number of samples from each dataset\n",
    "mich=mich.sample(n=4725)\n",
    "\n",
    "#assign labels based on origin subreddit of comment\n",
    "uiuc['label']=1\n",
    "mich['label']=0\n",
    "\n",
    "#you will be working with the data csv for the rest of the question\n",
    "data=pd.concat([uiuc,mich])\n",
    "\n",
    "\n"
   ]
  },
  {
   "cell_type": "code",
   "execution_count": null,
   "metadata": {},
   "outputs": [],
   "source": [
    "#using the code from project 1, clean the text and create a bag of words representation of the text\n"
   ]
  },
  {
   "cell_type": "code",
   "execution_count": null,
   "metadata": {},
   "outputs": [],
   "source": [
    "#using the embedding code from last week, plot a pca of all posts in the subreddits data set\n",
    "\n",
    "#color by the \"label\" column to see if the two subreddits are separable in the embedding space\n",
    "\n",
    "# is there a clear separation between the two columns? "
   ]
  },
  {
   "cell_type": "code",
   "execution_count": 99,
   "metadata": {},
   "outputs": [
    {
     "data": {
      "image/png": "[encoded data removed]",
      "text/plain": [
       "<Figure size 640x480 with 1 Axes>"
      ]
     },
     "metadata": {},
     "output_type": "display_data"
    }
   ],
   "source": [
    "#here is a function to calculate the average embedding of a cleaned document\n",
    "import numpy as np\n",
    "#we can sum together all the embeddings to get a representation of all the concepts expressed in the document\n",
    "def avg_embedding(sentence, model):\n",
    "    words=sentence.split()\n",
    "    embeddings=[model[word] for word in words if word in model]\n",
    "    return np.mean(embeddings, axis=0)\n",
    "\n",
    "sentences=[\"i am running today\", \"i will jog tomorrow\", \"i ran yesterday\", \"i love drawing\", \"i adore painting\", \"i used to like pottery\"]\n",
    "\n",
    "#we can then calculate the average embedding of each sentence\n",
    "\n",
    "avg_embeddings=[avg_embedding(sentence, model) for sentence in sentences]\n",
    "\n",
    "#we can then plot the pca of these embeddings\n",
    "\n",
    "pca=PCA(n_components=2)\n",
    "\n",
    "X_pca=pca.fit_transform(avg_embeddings)\n",
    "\n",
    "plt.scatter(X_pca[:,0],X_pca[:,1])\n",
    "\n",
    "for i, sentence in enumerate(sentences):\n",
    "    plt.annotate(sentence, (X_pca[i,0],X_pca[i,1]))\n",
    "\n",
    "plt.show()"
   ]
  },
  {
   "cell_type": "code",
   "execution_count": null,
   "metadata": {},
   "outputs": [],
   "source": []
  },
  {
   "cell_type": "code",
   "execution_count": null,
   "metadata": {},
   "outputs": [],
   "source": [
    "\n",
    "#use this function to calculate the average embedding of each post in the dataset\n",
    "\n",
    "#plot the pca of the average embeddings, color by the \"label\" column\n",
    "\n",
    "#how is this plot different from the previous one?\n",
    "\n",
    "#is there clear separation? "
   ]
  },
  {
   "cell_type": "markdown",
   "metadata": {},
   "source": [
    "Part 4: HuggingFace and BERT"
   ]
  },
  {
   "cell_type": "code",
   "execution_count": null,
   "metadata": {},
   "outputs": [],
   "source": [
    "!pip install transformers"
   ]
  },
  {
   "cell_type": "code",
   "execution_count": 100,
   "metadata": {},
   "outputs": [
    {
     "data": {
      "application/vnd.jupyter.widget-view+json": {
       "model_id": "34092752016945d2b6545a2c98fc84da",
       "version_major": 2,
       "version_minor": 0
      },
      "text/plain": [
       "config.json:   0%|          | 0.00/949 [00:00<?, ?B/s]"
      ]
     },
     "metadata": {},
     "output_type": "display_data"
    },
    {
     "name": "stderr",
     "output_type": "stream",
     "text": [
      "c:\\Users\\lucia\\anaconda3\\Lib\\site-packages\\huggingface_hub\\file_download.py:148: UserWarning: `huggingface_hub` cache-system uses symlinks by default to efficiently store duplicated files but your machine does not support them in C:\\Users\\lucia\\.cache\\huggingface\\hub\\models--finiteautomata--bertweet-base-sentiment-analysis. Caching files will still work but in a degraded version that might require more space on your disk. This warning can be disabled by setting the `HF_HUB_DISABLE_SYMLINKS_WARNING` environment variable. For more details, see https://huggingface.co/docs/huggingface_hub/how-to-cache#limitations.\n",
      "To support symlinks on Windows, you either need to activate Developer Mode or to run Python as an administrator. In order to see activate developer mode, see this article: https://docs.microsoft.com/en-us/windows/apps/get-started/enable-your-device-for-development\n",
      "  warnings.warn(message)\n"
     ]
    },
    {
     "name": "stdout",
     "output_type": "stream",
     "text": [
      "WARNING:tensorflow:From c:\\Users\\lucia\\anaconda3\\Lib\\site-packages\\tf_keras\\src\\losses.py:2976: The name tf.losses.sparse_softmax_cross_entropy is deprecated. Please use tf.compat.v1.losses.sparse_softmax_cross_entropy instead.\n",
      "\n"
     ]
    },
    {
     "data": {
      "application/vnd.jupyter.widget-view+json": {
       "model_id": "cbe018bf44a94ae8bedf2dcd3a05f834",
       "version_major": 2,
       "version_minor": 0
      },
      "text/plain": [
       "pytorch_model.bin:   0%|          | 0.00/540M [00:00<?, ?B/s]"
      ]
     },
     "metadata": {},
     "output_type": "display_data"
    },
    {
     "data": {
      "application/vnd.jupyter.widget-view+json": {
       "model_id": "9279f56d663b4528bc0977deca0d8566",
       "version_major": 2,
       "version_minor": 0
      },
      "text/plain": [
       "tokenizer_config.json:   0%|          | 0.00/338 [00:00<?, ?B/s]"
      ]
     },
     "metadata": {},
     "output_type": "display_data"
    },
    {
     "data": {
      "application/vnd.jupyter.widget-view+json": {
       "model_id": "abe1de15e86f483fad44b20ec0672d52",
       "version_major": 2,
       "version_minor": 0
      },
      "text/plain": [
       "vocab.txt:   0%|          | 0.00/843k [00:00<?, ?B/s]"
      ]
     },
     "metadata": {},
     "output_type": "display_data"
    },
    {
     "data": {
      "application/vnd.jupyter.widget-view+json": {
       "model_id": "3b97044be3504c4f8f8b2d36c772dacb",
       "version_major": 2,
       "version_minor": 0
      },
      "text/plain": [
       "bpe.codes:   0%|          | 0.00/1.08M [00:00<?, ?B/s]"
      ]
     },
     "metadata": {},
     "output_type": "display_data"
    },
    {
     "data": {
      "application/vnd.jupyter.widget-view+json": {
       "model_id": "6a22c400aad74e5ebcadb1b9595c853e",
       "version_major": 2,
       "version_minor": 0
      },
      "text/plain": [
       "added_tokens.json:   0%|          | 0.00/22.0 [00:00<?, ?B/s]"
      ]
     },
     "metadata": {},
     "output_type": "display_data"
    },
    {
     "data": {
      "application/vnd.jupyter.widget-view+json": {
       "model_id": "52abf0656755450184831acc59256649",
       "version_major": 2,
       "version_minor": 0
      },
      "text/plain": [
       "special_tokens_map.json:   0%|          | 0.00/167 [00:00<?, ?B/s]"
      ]
     },
     "metadata": {},
     "output_type": "display_data"
    },
    {
     "name": "stderr",
     "output_type": "stream",
     "text": [
      "emoji is not installed, thus not converting emoticons or emojis into text. Install emoji: pip3 install emoji==0.6.0\n"
     ]
    }
   ],
   "source": [
    "#Please wait until after next week to start\n",
    "\n",
    "# Use a pipeline as a high-level helper\n",
    "from transformers import pipeline\n",
    "\n",
    "#download bert model\n",
    "pipe = pipeline(\"text-classification\", model=\"finiteautomata/bertweet-base-sentiment-analysis\")\n"
   ]
  },
  {
   "cell_type": "code",
   "execution_count": 101,
   "metadata": {},
   "outputs": [
    {
     "data": {
      "text/plain": [
       "[{'label': 'POS', 'score': 0.9923704862594604}]"
      ]
     },
     "execution_count": 101,
     "metadata": {},
     "output_type": "execute_result"
    }
   ],
   "source": [
    "#use the pipeline to classify the sentiment of a sentence of your choice\n",
    "pipe(\"I love this class\")"
   ]
  },
  {
   "cell_type": "code",
   "execution_count": null,
   "metadata": {},
   "outputs": [],
   "source": [
    "#use the pipeline to classify the sentiment of all posts in the reddit dataset\n",
    "#report the most common sentiment label"
   ]
  },
  {
   "cell_type": "code",
   "execution_count": null,
   "metadata": {},
   "outputs": [],
   "source": [
    "#look at ten sample posts and labels; do you agree with all of them? "
   ]
  },
  {
   "cell_type": "code",
   "execution_count": null,
   "metadata": {},
   "outputs": [],
   "source": [
    "#is the UIUC or Michigan subreddit more negative?"
   ]
  },
  {
   "cell_type": "code",
   "execution_count": null,
   "metadata": {},
   "outputs": [],
   "source": []
  }
 ],
 "metadata": {
  "kernelspec": {
   "display_name": "“is310”",
   "language": "python",
   "name": "python3"
  },
  "language_info": {
   "codemirror_mode": {
    "name": "ipython",
    "version": 3
   },
   "file_extension": ".py",
   "mimetype": "text/x-python",
   "name": "python",
   "nbconvert_exporter": "python",
   "pygments_lexer": "ipython3",
   "version": "3.9.19"
  }
 },
 "nbformat": 4,
 "nbformat_minor": 2
}
